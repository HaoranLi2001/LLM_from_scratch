{
  "nbformat": 4,
  "nbformat_minor": 0,
  "metadata": {
    "colab": {
      "provenance": []
    },
    "kernelspec": {
      "name": "python3",
      "display_name": "Python 3"
    },
    "language_info": {
      "name": "python"
    }
  },
  "cells": [
    {
      "cell_type": "code",
      "execution_count": 29,
      "metadata": {
        "id": "QB3SN0TjrcMj"
      },
      "outputs": [],
      "source": [
        "import torch\n",
        "import torch.nn as nn\n",
        "import torch.nn.functional as F\n",
        "from dataclasses import dataclass"
      ]
    },
    {
      "cell_type": "code",
      "source": [
        "class router(nn.Module):\n",
        "  def __init__(self, embedding_size, num_experts, top_k):\n",
        "    self.gate = nn.Linear(embedding_size, num_experts)\n",
        "    self.num_experts = num_experts\n",
        "    self.topk = top_k\n",
        "\n",
        "  def forward(self, x):\n",
        "    # x.shape = (b*s,embedding), weight.shape = (b*s,num_experts)\n",
        "    weight = self.gate(x)\n",
        "    probs = F.softmax(weight, dim = 1)\n",
        "\n",
        "    # dim=-1: select on the last dim\n",
        "    topk_val, selected_experts = torch.topk(probs, k=self.topk, dim=-1)\n",
        "\n",
        "    # shape = (b*s, top_k)\n",
        "    topk_val = topk_val / topk_val.sum(dim=1,keepdim=True)\n",
        "    topk_val = topk_val.to(x.dtype)\n",
        "\n",
        "    expert_mask = F.one_hot(\n",
        "        selected_experts,\n",
        "        self.num_experts\n",
        "    )\n",
        "    expert_mask = expert_mask.permute(2,1,0)\n",
        "\n",
        "    return topk_val, selected_experts, expert_mask\n",
        "\n",
        "@dataclass\n",
        "class MOEconfig:\n",
        "  num_experts: int = 8\n",
        "  top_k: int = 2\n",
        "  embedding_size: int = 768"
      ],
      "metadata": {
        "id": "zLbYlgbu3_z2"
      },
      "execution_count": null,
      "outputs": []
    }
  ]
}